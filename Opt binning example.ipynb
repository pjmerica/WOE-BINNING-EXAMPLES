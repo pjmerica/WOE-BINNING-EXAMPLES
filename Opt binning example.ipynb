{
 "cells": [
  {
   "cell_type": "code",
   "execution_count": null,
   "id": "c613b0ca",
   "metadata": {},
   "outputs": [],
   "source": [
    "pip install optbinning"
   ]
  },
  {
   "cell_type": "code",
   "execution_count": null,
   "id": "9e824bec",
   "metadata": {},
   "outputs": [],
   "source": [
    "from optbinning import OptimalBinning\n",
    "import numpy as np\n",
    "import pandas as pd\n",
    "\n",
    "# Example dataset\n",
    "X = np.random.uniform(0, 100, 1000)  # Continuous feature\n",
    "y = np.random.randint(0, 2, 1000)   # Binary target variable\n",
    "\n",
    "# Initialize the binning object\n",
    "opt_binning = OptimalBinning(name=\"example_feature\", dtype=\"numerical\", solver=\"cp\")\n",
    "\n",
    "# Fit the binning model\n",
    "opt_binning.fit(X, y)\n"
   ]
  },
  {
   "cell_type": "code",
   "execution_count": null,
   "id": "12b92fab",
   "metadata": {},
   "outputs": [],
   "source": []
  },
  {
   "cell_type": "code",
   "execution_count": null,
   "id": "eeebef05",
   "metadata": {},
   "outputs": [],
   "source": [
    "binning_table = opt_binning.binning_table.build()\n",
    "print(binning_table)\n"
   ]
  },
  {
   "cell_type": "code",
   "execution_count": null,
   "id": "668c3b62",
   "metadata": {},
   "outputs": [],
   "source": []
  },
  {
   "cell_type": "code",
   "execution_count": null,
   "id": "fcdd35bb",
   "metadata": {},
   "outputs": [],
   "source": [
    "df = pd.DataFrame({\"original_feature\": X, \"target\": y})\n",
    "df[\"woe_feature\"] = X_woe\n",
    "print(df.head())\n"
   ]
  },
  {
   "cell_type": "code",
   "execution_count": null,
   "id": "323c4b51",
   "metadata": {},
   "outputs": [],
   "source": []
  },
  {
   "cell_type": "code",
   "execution_count": null,
   "id": "e3a1cd7f",
   "metadata": {},
   "outputs": [],
   "source": [
    "bin_intervals = binning_table[\"Bin\"]\n",
    "woe_values = binning_table[\"WoE\"]\n",
    "\n",
    "# Create a mapping of intervals to WOE\n",
    "bin_to_woe = dict(zip(bin_intervals, woe_values))\n",
    "\n",
    "# Assign WOE to each row based on its bin\n",
    "def get_woe(value, opt_binning):\n",
    "    return opt_binning.transform([value], metric=\"woe\")[0]\n",
    "\n",
    "df[\"woe_feature\"] = df[\"original_feature\"].apply(lambda x: get_woe(x, opt_binning))\n",
    "print(df)\n"
   ]
  },
  {
   "cell_type": "code",
   "execution_count": null,
   "id": "9567f112",
   "metadata": {},
   "outputs": [],
   "source": []
  }
 ],
 "metadata": {
  "kernelspec": {
   "display_name": "Python 3 (ipykernel)",
   "language": "python",
   "name": "python3"
  },
  "language_info": {
   "codemirror_mode": {
    "name": "ipython",
    "version": 3
   },
   "file_extension": ".py",
   "mimetype": "text/x-python",
   "name": "python",
   "nbconvert_exporter": "python",
   "pygments_lexer": "ipython3",
   "version": "3.11.3"
  }
 },
 "nbformat": 4,
 "nbformat_minor": 5
}
