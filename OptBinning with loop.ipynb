{
 "cells": [
  {
   "cell_type": "code",
   "execution_count": 1,
   "id": "dcb2bfd4",
   "metadata": {},
   "outputs": [
    {
     "name": "stderr",
     "output_type": "stream",
     "text": [
      "C:\\Users\\pjmer\\anaconda4\\Lib\\site-packages\\pandas\\core\\arrays\\masked.py:60: UserWarning: Pandas requires version '1.3.6' or newer of 'bottleneck' (version '1.3.5' currently installed).\n",
      "  from pandas.core import (\n"
     ]
    },
    {
     "name": "stdout",
     "output_type": "stream",
     "text": [
      "(CVXPY) Feb 04 10:25:28 PM: Encountered unexpected exception importing solver GLOP:\n",
      "RuntimeError('Unrecognized new version of ortools (9.11.4210). Expected < 9.10.0. Please open a feature request on cvxpy to enable support for this version.')\n",
      "(CVXPY) Feb 04 10:25:28 PM: Encountered unexpected exception importing solver PDLP:\n",
      "RuntimeError('Unrecognized new version of ortools (9.11.4210). Expected < 9.10.0. Please open a feature request on cvxpy to enable support for this version.')\n",
      "   feature1  feature2  feature3  target\n",
      "0 -0.079647  0.006921 -0.014590       0\n",
      "1 -0.036004 -0.029655 -0.014590       0\n",
      "2 -0.079647  0.060623 -0.045573       0\n",
      "3 -0.079647 -0.029655 -0.014590       1\n",
      "4 -0.082524  0.052550 -0.014590       0\n"
     ]
    }
   ],
   "source": [
    "from optbinning import OptimalBinning\n",
    "import numpy as np\n",
    "import pandas as pd\n",
    "\n",
    "# Example dataset\n",
    "np.random.seed(42)\n",
    "data = pd.DataFrame({\n",
    "    \"feature1\": np.random.uniform(0, 100, 1000),\n",
    "    \"feature2\": np.random.uniform(10, 50, 1000),\n",
    "    \"feature3\": np.random.uniform(5, 25, 1000),\n",
    "    \"target\": np.random.randint(0, 2, 1000)  # Binary target\n",
    "})\n",
    "\n",
    "# Separate features and target\n",
    "X = data.drop(columns=[\"target\"])\n",
    "y = data[\"target\"]\n",
    "\n",
    "# Initialize a dictionary to store WOE-transformed features\n",
    "woe_transformed_data = {}\n",
    "\n",
    "# Loop through each feature in the dataset\n",
    "for feature in X.columns:\n",
    "    # Initialize the OptimalBinning object for each feature\n",
    "    opt_binning = OptimalBinning(name=feature, dtype=\"numerical\", solver=\"cp\")\n",
    "    \n",
    "    # Fit the binning model\n",
    "    opt_binning.fit(X[feature], y)\n",
    "    \n",
    "    # Transform feature values into WOE values\n",
    "    woe_values = opt_binning.transform(X[feature], metric=\"woe\")\n",
    "    \n",
    "    # Store the WOE values in the dictionary\n",
    "    woe_transformed_data[feature] = woe_values\n",
    "\n",
    "# Convert the dictionary of WOE-transformed data back to a DataFrame\n",
    "woe_df = pd.DataFrame(woe_transformed_data)\n",
    "\n",
    "# Add the target column to the WOE-transformed DataFrame\n",
    "woe_df[\"target\"] = y\n",
    "\n",
    "# Display the first few rows of the transformed dataset\n",
    "print(woe_df.head())\n"
   ]
  },
  {
   "cell_type": "code",
   "execution_count": null,
   "id": "46ee6938",
   "metadata": {},
   "outputs": [],
   "source": []
  },
  {
   "cell_type": "code",
   "execution_count": 2,
   "id": "7118e829",
   "metadata": {},
   "outputs": [
    {
     "name": "stdout",
     "output_type": "stream",
     "text": [
      "   feature1_woe  feature2_woe  feature3_woe  target\n",
      "0     -0.079647      0.006921     -0.014590       0\n",
      "1     -0.036004     -0.029655     -0.014590       0\n",
      "2     -0.079647      0.060623     -0.045573       0\n",
      "3     -0.079647     -0.029655     -0.014590       1\n",
      "4     -0.082524      0.052550     -0.014590       0\n"
     ]
    }
   ],
   "source": [
    "from optbinning import OptimalBinning\n",
    "import numpy as np\n",
    "import pandas as pd\n",
    "\n",
    "# Example dataset\n",
    "np.random.seed(42)\n",
    "data = pd.DataFrame({\n",
    "    \"feature1\": np.random.uniform(0, 100, 1000),\n",
    "    \"feature2\": np.random.uniform(10, 50, 1000),\n",
    "    \"feature3\": np.random.uniform(5, 25, 1000),\n",
    "    \"target\": np.random.randint(0, 2, 1000)  # Binary target\n",
    "})\n",
    "\n",
    "# Separate features and target\n",
    "X = data.drop(columns=[\"target\"])\n",
    "y = data[\"target\"]\n",
    "\n",
    "# Initialize a new DataFrame for WOE-transformed features\n",
    "woe_df = pd.DataFrame()\n",
    "\n",
    "# Loop through each feature in the dataset\n",
    "for feature in X.columns:\n",
    "    # Initialize the OptimalBinning object for each feature\n",
    "    opt_binning = OptimalBinning(name=feature, dtype=\"numerical\", solver=\"cp\")\n",
    "    \n",
    "    # Fit the binning model\n",
    "    opt_binning.fit(X[feature], y)\n",
    "    \n",
    "    # Transform feature values into WOE values\n",
    "    woe_values = opt_binning.transform(X[feature], metric=\"woe\")\n",
    "    \n",
    "    # Store the WOE values in the new DataFrame with column name \"feature_woe\"\n",
    "    woe_df[f\"{feature}_woe\"] = woe_values\n",
    "\n",
    "# Add the target column to the WOE-transformed DataFrame\n",
    "woe_df[\"target\"] = y\n",
    "\n",
    "# Display the first few rows of the transformed dataset\n",
    "print(woe_df.head())\n"
   ]
  },
  {
   "cell_type": "code",
   "execution_count": null,
   "id": "7a353eed",
   "metadata": {},
   "outputs": [],
   "source": []
  },
  {
   "cell_type": "code",
   "execution_count": null,
   "id": "1a35ace5",
   "metadata": {},
   "outputs": [],
   "source": []
  },
  {
   "cell_type": "code",
   "execution_count": null,
   "id": "975cb12f",
   "metadata": {},
   "outputs": [],
   "source": []
  },
  {
   "cell_type": "code",
   "execution_count": null,
   "id": "afcd9757",
   "metadata": {},
   "outputs": [],
   "source": []
  },
  {
   "cell_type": "code",
   "execution_count": null,
   "id": "a72df5fb",
   "metadata": {},
   "outputs": [],
   "source": []
  }
 ],
 "metadata": {
  "kernelspec": {
   "display_name": "Python 3 (ipykernel)",
   "language": "python",
   "name": "python3"
  },
  "language_info": {
   "codemirror_mode": {
    "name": "ipython",
    "version": 3
   },
   "file_extension": ".py",
   "mimetype": "text/x-python",
   "name": "python",
   "nbconvert_exporter": "python",
   "pygments_lexer": "ipython3",
   "version": "3.11.3"
  }
 },
 "nbformat": 4,
 "nbformat_minor": 5
}
